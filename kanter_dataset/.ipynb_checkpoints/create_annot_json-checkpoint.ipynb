{
 "cells": [
  {
   "cell_type": "code",
   "execution_count": 10,
   "metadata": {},
   "outputs": [],
   "source": [
    "import os\n",
    "import json"
   ]
  },
  {
   "cell_type": "code",
   "execution_count": 11,
   "metadata": {},
   "outputs": [],
   "source": [
    "list_img = os.listdir(\"./img/\")"
   ]
  },
  {
   "cell_type": "code",
   "execution_count": null,
   "metadata": {},
   "outputs": [],
   "source": []
  },
  {
   "cell_type": "code",
   "execution_count": 12,
   "metadata": {},
   "outputs": [],
   "source": [
    "annotations = dict(zip(list_img,[\"cup\" for i in range(len(list_img))]))"
   ]
  },
  {
   "cell_type": "code",
   "execution_count": 13,
   "metadata": {},
   "outputs": [],
   "source": [
    "annotations[\"IMG_0007.JPG\"] = \"dining table\"\n"
   ]
  },
  {
   "cell_type": "code",
   "execution_count": 14,
   "metadata": {},
   "outputs": [],
   "source": [
    "json.dump(annotations, open(\"./annotations/labels.json\",'w'))"
   ]
  },
  {
   "cell_type": "code",
   "execution_count": 30,
   "metadata": {},
   "outputs": [
    {
     "name": "stdout",
     "output_type": "stream",
     "text": [
      "{'IMG_0003.JPG': 'cup', 'IMG_0010.JPG': 'cup', 'IMG_0007.JPG': 'cup', 'IMG_0004.JPG': 'cup', 'IMG_0005.JPG': 'cup', 'IMG_0009.JPG': 'cup', 'IMG_0001.JPG': 'cup', 'IMG_0011.JPG': 'cup', 'IMG_0002.JPG': 'cup', 'IMG_0007': 'dining table'}\n"
     ]
    }
   ],
   "source": [
    "print(json.load(open(\"./annotations/labels.json\",'r')))"
   ]
  },
  {
   "cell_type": "code",
   "execution_count": 20,
   "metadata": {},
   "outputs": [],
   "source": [
    "#if not os.path.isdir(\"./sdcard\"):\n",
    "    #os.makedirs(\"sdcard/mlperf_dataset\")\n",
    "if not os.path.isdir(\"./sdcard/mlperf_dataset/coco\"):\n",
    "    os.makedirs(\"sdcard/mlperf_dataset/coco\")\n",
    "        \n",
    "#os.mkdir(os.path.join(\"sdcard\",\"mlperf_dataset\"))"
   ]
  },
  {
   "cell_type": "code",
   "execution_count": 21,
   "metadata": {},
   "outputs": [
    {
     "data": {
      "text/plain": [
       "['IMG_0003.JPG',\n",
       " 'IMG_0010.JPG',\n",
       " 'IMG_0007.JPG',\n",
       " 'IMG_0004.JPG',\n",
       " 'IMG_0005.JPG',\n",
       " 'IMG_0009.JPG',\n",
       " 'IMG_0001.JPG',\n",
       " 'IMG_0011.JPG',\n",
       " 'IMG_0002.JPG']"
      ]
     },
     "execution_count": 21,
     "metadata": {},
     "output_type": "execute_result"
    }
   ],
   "source": [
    "\n",
    "list_img"
   ]
  },
  {
   "cell_type": "code",
   "execution_count": 29,
   "metadata": {},
   "outputs": [
    {
     "data": {
      "text/plain": [
       "['IMG_0010.JPG', 'IMG_0001.JPG', 'IMG_0007.JPG', 'IMG_0004.JPG']"
      ]
     },
     "execution_count": 29,
     "metadata": {},
     "output_type": "execute_result"
    }
   ],
   "source": [
    "import random\n",
    "random.sample(list_img,4)"
   ]
  },
  {
   "cell_type": "code",
   "execution_count": null,
   "metadata": {},
   "outputs": [],
   "source": []
  }
 ],
 "metadata": {
  "kernelspec": {
   "display_name": "Python 3",
   "language": "python",
   "name": "python3"
  },
  "language_info": {
   "codemirror_mode": {
    "name": "ipython",
    "version": 3
   },
   "file_extension": ".py",
   "mimetype": "text/x-python",
   "name": "python",
   "nbconvert_exporter": "python",
   "pygments_lexer": "ipython3",
   "version": "3.7.3"
  },
  "toc": {
   "base_numbering": 1,
   "nav_menu": {},
   "number_sections": true,
   "sideBar": true,
   "skip_h1_title": false,
   "title_cell": "Table of Contents",
   "title_sidebar": "Contents",
   "toc_cell": false,
   "toc_position": {},
   "toc_section_display": true,
   "toc_window_display": false
  }
 },
 "nbformat": 4,
 "nbformat_minor": 2
}
